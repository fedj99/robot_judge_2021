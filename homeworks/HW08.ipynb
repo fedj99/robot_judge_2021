{
 "cells": [
  {
   "cell_type": "markdown",
   "metadata": {},
   "source": [
    "# HW08 - Instrumental Variables (due November 23rd)\n",
    "\n",
    "In this homework you will practice with running IV regressions with python. You will investigate once more the effect of schooling on earnings, but this time the instrument for education you will use is college proximity to individuals houses (reference paper by [Card, 1993](https://davidcard.berkeley.edu/papers/geo_var_schooling.pdf)).\n",
    "\n",
    "More in detail, there are two instruments that can be exploited in this context. Both are binary variables taking value 1 if either a 2-years or 4-years college is present in the area where the individual lives."
   ]
  },
  {
   "cell_type": "code",
   "execution_count": 2,
   "metadata": {},
   "outputs": [
    {
     "data": {
      "text/plain": [
       "{'id': '',\n",
       " 'nearc2': '=1 if near 2 yr college, 1966',\n",
       " 'nearc4': '=1 if near 4 yr college, 1966',\n",
       " 'educ': 'years of schooling, 1976',\n",
       " 'age': 'in years',\n",
       " 'fatheduc': \"father's schooling\",\n",
       " 'motheduc': \"mother's schooling\",\n",
       " 'weight': 'NLS sampling weight, 1976',\n",
       " 'momdad14': '=1 if live with mom, dad at 14',\n",
       " 'sinmom14': '=1 if with single mom at 14',\n",
       " 'step14': '=1 if with step parent at 14',\n",
       " 'reg661': 'regional dummy, 1966',\n",
       " 'reg662': '',\n",
       " 'reg663': '',\n",
       " 'reg664': '',\n",
       " 'reg665': '',\n",
       " 'reg666': '',\n",
       " 'reg667': '',\n",
       " 'reg668': '',\n",
       " 'reg669': '',\n",
       " 'south66': '=1 if in south in 1966',\n",
       " 'black': '=1 if black',\n",
       " 'smsa': '=1 in in SMSA, 1976',\n",
       " 'south': '=1 if in south, 1976',\n",
       " 'smsa66': '=1 if in SMSA, 1966',\n",
       " 'wage': 'hourly wage in cents, 1976',\n",
       " 'enroll': '=1 if enrolled in school, 1976',\n",
       " 'kww': 'knowledge world of work score',\n",
       " 'iq': 'IQ score',\n",
       " 'married': '=1 if married, 1976',\n",
       " 'libcrd14': '=1 if lib. card in home at 14',\n",
       " 'exper': 'age - educ - 6',\n",
       " 'lwage': 'log(wage)',\n",
       " 'expersq': 'exper^2'}"
      ]
     },
     "execution_count": 2,
     "metadata": {},
     "output_type": "execute_result"
    }
   ],
   "source": [
    "import pandas as pd \n",
    "import matplotlib.pyplot as plt\n",
    "import seaborn as sns\n",
    "import statsmodels.formula.api as smf\n",
    "import statsmodels.api as sm\n",
    "\n",
    "from linearmodels.iv import IV2SLS\n",
    "from statsmodels.iolib.summary2 import summary_col\n",
    "import warnings\n",
    "warnings.filterwarnings('ignore', category=FutureWarning)\n",
    "warnings.filterwarnings('ignore', category=DeprecationWarning)\n",
    "warnings.filterwarnings = lambda *a, **kw: None\n",
    "\n",
    "df = pd.read_stata('http://www.stata.com/data/jwooldridge/eacsap/card.dta')\n",
    "pd.read_stata('http://www.stata.com/data/jwooldridge/eacsap/card.dta', iterator=True).variable_labels()"
   ]
  },
  {
   "cell_type": "code",
   "execution_count": 3,
   "metadata": {},
   "outputs": [
    {
     "data": {
      "text/html": [
       "<div>\n",
       "<style scoped>\n",
       "    .dataframe tbody tr th:only-of-type {\n",
       "        vertical-align: middle;\n",
       "    }\n",
       "\n",
       "    .dataframe tbody tr th {\n",
       "        vertical-align: top;\n",
       "    }\n",
       "\n",
       "    .dataframe thead th {\n",
       "        text-align: right;\n",
       "    }\n",
       "</style>\n",
       "<table border=\"1\" class=\"dataframe\">\n",
       "  <thead>\n",
       "    <tr style=\"text-align: right;\">\n",
       "      <th></th>\n",
       "      <th>id</th>\n",
       "      <th>nearc2</th>\n",
       "      <th>nearc4</th>\n",
       "      <th>educ</th>\n",
       "      <th>age</th>\n",
       "      <th>fatheduc</th>\n",
       "      <th>motheduc</th>\n",
       "      <th>weight</th>\n",
       "      <th>momdad14</th>\n",
       "      <th>sinmom14</th>\n",
       "      <th>...</th>\n",
       "      <th>smsa66</th>\n",
       "      <th>wage</th>\n",
       "      <th>enroll</th>\n",
       "      <th>kww</th>\n",
       "      <th>iq</th>\n",
       "      <th>married</th>\n",
       "      <th>libcrd14</th>\n",
       "      <th>exper</th>\n",
       "      <th>lwage</th>\n",
       "      <th>expersq</th>\n",
       "    </tr>\n",
       "  </thead>\n",
       "  <tbody>\n",
       "    <tr>\n",
       "      <th>0</th>\n",
       "      <td>2</td>\n",
       "      <td>0</td>\n",
       "      <td>0</td>\n",
       "      <td>7</td>\n",
       "      <td>29</td>\n",
       "      <td>NaN</td>\n",
       "      <td>NaN</td>\n",
       "      <td>158413.0</td>\n",
       "      <td>1</td>\n",
       "      <td>0</td>\n",
       "      <td>...</td>\n",
       "      <td>1</td>\n",
       "      <td>548</td>\n",
       "      <td>0</td>\n",
       "      <td>15.0</td>\n",
       "      <td>NaN</td>\n",
       "      <td>1.0</td>\n",
       "      <td>0.0</td>\n",
       "      <td>16</td>\n",
       "      <td>6.306275</td>\n",
       "      <td>256</td>\n",
       "    </tr>\n",
       "    <tr>\n",
       "      <th>1</th>\n",
       "      <td>3</td>\n",
       "      <td>0</td>\n",
       "      <td>0</td>\n",
       "      <td>12</td>\n",
       "      <td>27</td>\n",
       "      <td>8.0</td>\n",
       "      <td>8.0</td>\n",
       "      <td>380166.0</td>\n",
       "      <td>1</td>\n",
       "      <td>0</td>\n",
       "      <td>...</td>\n",
       "      <td>1</td>\n",
       "      <td>481</td>\n",
       "      <td>0</td>\n",
       "      <td>35.0</td>\n",
       "      <td>93.0</td>\n",
       "      <td>1.0</td>\n",
       "      <td>1.0</td>\n",
       "      <td>9</td>\n",
       "      <td>6.175867</td>\n",
       "      <td>81</td>\n",
       "    </tr>\n",
       "    <tr>\n",
       "      <th>2</th>\n",
       "      <td>4</td>\n",
       "      <td>0</td>\n",
       "      <td>0</td>\n",
       "      <td>12</td>\n",
       "      <td>34</td>\n",
       "      <td>14.0</td>\n",
       "      <td>12.0</td>\n",
       "      <td>367470.0</td>\n",
       "      <td>1</td>\n",
       "      <td>0</td>\n",
       "      <td>...</td>\n",
       "      <td>1</td>\n",
       "      <td>721</td>\n",
       "      <td>0</td>\n",
       "      <td>42.0</td>\n",
       "      <td>103.0</td>\n",
       "      <td>1.0</td>\n",
       "      <td>1.0</td>\n",
       "      <td>16</td>\n",
       "      <td>6.580639</td>\n",
       "      <td>256</td>\n",
       "    </tr>\n",
       "    <tr>\n",
       "      <th>3</th>\n",
       "      <td>5</td>\n",
       "      <td>1</td>\n",
       "      <td>1</td>\n",
       "      <td>11</td>\n",
       "      <td>27</td>\n",
       "      <td>11.0</td>\n",
       "      <td>12.0</td>\n",
       "      <td>380166.0</td>\n",
       "      <td>1</td>\n",
       "      <td>0</td>\n",
       "      <td>...</td>\n",
       "      <td>1</td>\n",
       "      <td>250</td>\n",
       "      <td>0</td>\n",
       "      <td>25.0</td>\n",
       "      <td>88.0</td>\n",
       "      <td>1.0</td>\n",
       "      <td>1.0</td>\n",
       "      <td>10</td>\n",
       "      <td>5.521461</td>\n",
       "      <td>100</td>\n",
       "    </tr>\n",
       "    <tr>\n",
       "      <th>4</th>\n",
       "      <td>6</td>\n",
       "      <td>1</td>\n",
       "      <td>1</td>\n",
       "      <td>12</td>\n",
       "      <td>34</td>\n",
       "      <td>8.0</td>\n",
       "      <td>7.0</td>\n",
       "      <td>367470.0</td>\n",
       "      <td>1</td>\n",
       "      <td>0</td>\n",
       "      <td>...</td>\n",
       "      <td>1</td>\n",
       "      <td>729</td>\n",
       "      <td>0</td>\n",
       "      <td>34.0</td>\n",
       "      <td>108.0</td>\n",
       "      <td>1.0</td>\n",
       "      <td>0.0</td>\n",
       "      <td>16</td>\n",
       "      <td>6.591674</td>\n",
       "      <td>256</td>\n",
       "    </tr>\n",
       "  </tbody>\n",
       "</table>\n",
       "<p>5 rows × 34 columns</p>\n",
       "</div>"
      ],
      "text/plain": [
       "   id  nearc2  nearc4  educ  age  fatheduc  motheduc    weight  momdad14  \\\n",
       "0   2       0       0     7   29       NaN       NaN  158413.0         1   \n",
       "1   3       0       0    12   27       8.0       8.0  380166.0         1   \n",
       "2   4       0       0    12   34      14.0      12.0  367470.0         1   \n",
       "3   5       1       1    11   27      11.0      12.0  380166.0         1   \n",
       "4   6       1       1    12   34       8.0       7.0  367470.0         1   \n",
       "\n",
       "   sinmom14  ...  smsa66  wage  enroll   kww     iq  married  libcrd14  exper  \\\n",
       "0         0  ...       1   548       0  15.0    NaN      1.0       0.0     16   \n",
       "1         0  ...       1   481       0  35.0   93.0      1.0       1.0      9   \n",
       "2         0  ...       1   721       0  42.0  103.0      1.0       1.0     16   \n",
       "3         0  ...       1   250       0  25.0   88.0      1.0       1.0     10   \n",
       "4         0  ...       1   729       0  34.0  108.0      1.0       0.0     16   \n",
       "\n",
       "      lwage  expersq  \n",
       "0  6.306275      256  \n",
       "1  6.175867       81  \n",
       "2  6.580639      256  \n",
       "3  5.521461      100  \n",
       "4  6.591674      256  \n",
       "\n",
       "[5 rows x 34 columns]"
      ]
     },
     "execution_count": 3,
     "metadata": {},
     "output_type": "execute_result"
    }
   ],
   "source": [
    "df.head()"
   ]
  },
  {
   "cell_type": "markdown",
   "metadata": {},
   "source": [
    "### OLS"
   ]
  },
  {
   "cell_type": "code",
   "execution_count": 4,
   "metadata": {},
   "outputs": [
    {
     "data": {
      "text/plain": [
       "<AxesSubplot:xlabel='educ', ylabel='lwage'>"
      ]
     },
     "execution_count": 4,
     "metadata": {},
     "output_type": "execute_result"
    },
    {
     "data": {
      "image/png": "[encoded data removed]",
      "text/plain": [
       "<Figure size 432x288 with 1 Axes>"
      ]
     },
     "metadata": {},
     "output_type": "display_data"
    }
   ],
   "source": [
    "##plot log wages against education\n",
    "sns.set_theme()\n",
    "sns.regplot(x='educ', y='lwage', data=df, scatter=False, ci=95)"
   ]
  },
  {
   "cell_type": "code",
   "execution_count": 52,
   "metadata": {},
   "outputs": [
    {
     "name": "stdout",
     "output_type": "stream",
     "text": [
      "                            OLS Regression Results                            \n",
      "==============================================================================\n",
      "Dep. Variable:                  lwage   R-squared:                       0.277\n",
      "Model:                            OLS   Adj. R-squared:                  0.275\n",
      "Method:                 Least Squares   F-statistic:                     138.5\n",
      "Date:                Mon, 22 Nov 2021   Prob (F-statistic):          6.35e-149\n",
      "Time:                        12:09:43   Log-Likelihood:                -948.64\n",
      "No. Observations:                2186   AIC:                             1911.\n",
      "Df Residuals:                    2179   BIC:                             1951.\n",
      "Df Model:                           6                                         \n",
      "Covariance Type:                  hc1                                         \n",
      "==============================================================================\n",
      "                 coef    std err          z      P>|z|      [0.025      0.975]\n",
      "------------------------------------------------------------------------------\n",
      "const          4.7707      0.091     52.356      0.000       4.592       4.949\n",
      "educ           0.0349      0.003     10.816      0.000       0.029       0.041\n",
      "age            0.0382      0.003     13.961      0.000       0.033       0.044\n",
      "black         -0.1559      0.024     -6.599      0.000      -0.202      -0.110\n",
      "smsa           0.1728      0.018      9.565      0.000       0.137       0.208\n",
      "south         -0.1251      0.018     -7.128      0.000      -0.159      -0.091\n",
      "married       -0.0355      0.004     -8.405      0.000      -0.044      -0.027\n",
      "==============================================================================\n",
      "Omnibus:                       49.879   Durbin-Watson:                   1.847\n",
      "Prob(Omnibus):                  0.000   Jarque-Bera (JB):               65.388\n",
      "Skew:                          -0.274   Prob(JB):                     6.33e-15\n",
      "Kurtosis:                       3.646   Cond. No.                         344.\n",
      "==============================================================================\n",
      "\n",
      "Notes:\n",
      "[1] Standard Errors are heteroscedasticity robust (HC1)\n"
     ]
    }
   ],
   "source": [
    "# Regress log wages (lwage) against education and include controls, use robust standard errors.\n",
    "\n",
    "# Instruments:\n",
    "# - nearc2\n",
    "# - nearc4\n",
    "#\n",
    "# Possible confounders:\n",
    "# - age\n",
    "# - fatheduc\n",
    "# - motheduc\n",
    "# - black\n",
    "# - smsa\n",
    "# - south\n",
    "# - kww\n",
    "# - iq\n",
    "# - married\n",
    "# - exper\n",
    "#\n",
    "# All regional dummies could also be included but for now I think 'south' is enough\n",
    "#\n",
    "# Analysis\n",
    "#\n",
    "# Performing OLS using controls from above yields the following results:\n",
    "#\n",
    "# - 'iq' is highly statistically insignificant. It may add considerable amounts of noise\n",
    "# - 'kww' is statistically significant, but not knowing the specifics of this test it might be better not to include it\n",
    "# - 'fatheduc' and 'motheduc' surprisingly are not quite statistically significant in this configuration\n",
    "# - Since 'exper' is calculated using 'educ' and 'age', we can't include it\n",
    "\n",
    "covariates = ['age', 'black', 'smsa', 'south', 'married']\n",
    "df = df.dropna(subset=['lwage', 'educ'] + covariates)\n",
    "\n",
    "exog_vars = ['educ'] + covariates\n",
    "exog = sm.add_constant(df[exog_vars])\n",
    "\n",
    "ols = sm.OLS(df['lwage'], exog).fit(cov_type='hc1')\n",
    "print(ols.summary())\n"
   ]
  },
  {
   "cell_type": "markdown",
   "metadata": {},
   "source": [
    "**What are other possible confunders?**"
   ]
  },
  {
   "cell_type": "markdown",
   "metadata": {},
   "source": [
    "See code comments above for observable confounders.\n",
    "\n",
    "Other confounders could include:\n",
    "\n",
    "- Personal skills\n",
    "- Parent's wealth"
   ]
  },
  {
   "cell_type": "markdown",
   "metadata": {},
   "source": [
    "### 2SLS\n",
    "\n",
    "You will use only on proximity to a 4-years college ($nearc4$) as instrument. "
   ]
  },
  {
   "cell_type": "code",
   "execution_count": 53,
   "metadata": {},
   "outputs": [
    {
     "data": {
      "text/plain": [
       "<AxesSubplot:xlabel='nearc4', ylabel='lwage'>"
      ]
     },
     "execution_count": 53,
     "metadata": {},
     "output_type": "execute_result"
    },
    {
     "data": {
      "image/png": "[encoded data removed]",
      "text/plain": [
       "<Figure size 432x288 with 1 Axes>"
      ]
     },
     "metadata": {},
     "output_type": "display_data"
    }
   ],
   "source": [
    "##plot log wages against nearc4\n",
    "\n",
    "sns.regplot(x='nearc4', y='lwage', data=df, scatter=False, ci=95)"
   ]
  },
  {
   "cell_type": "code",
   "execution_count": 54,
   "metadata": {},
   "outputs": [
    {
     "data": {
      "text/plain": [
       "<AxesSubplot:xlabel='nearc4', ylabel='educ'>"
      ]
     },
     "execution_count": 54,
     "metadata": {},
     "output_type": "execute_result"
    },
    {
     "data": {
      "image/png": "[encoded data removed]",
      "text/plain": [
       "<Figure size 432x288 with 1 Axes>"
      ]
     },
     "metadata": {},
     "output_type": "display_data"
    }
   ],
   "source": [
    "##plot education against nearc4\n",
    "\n",
    "sns.regplot(x='nearc4', y='educ', data=df, scatter=False, ci=95)"
   ]
  },
  {
   "cell_type": "markdown",
   "metadata": {},
   "source": [
    "**If you run an IV regression of log wages on education, using college proximity as an instrument for education, what would you expect the sign of the coefficient on education to be? Why?**"
   ]
  },
  {
   "cell_type": "markdown",
   "metadata": {},
   "source": [
    "I would expect it to be positive, as more years of education increase wages. Furthermore, including an instrument eliminates the cases where the effect is less because there simply wasn't a college nearby."
   ]
  },
  {
   "cell_type": "code",
   "execution_count": 55,
   "metadata": {},
   "outputs": [
    {
     "data": {
      "text/html": [
       "<table class=\"simpletable\">\n",
       "<caption>OLS Regression Results</caption>\n",
       "<tr>\n",
       "  <th>Dep. Variable:</th>          <td>educ</td>       <th>  R-squared:         </th> <td>   0.084</td> \n",
       "</tr>\n",
       "<tr>\n",
       "  <th>Model:</th>                   <td>OLS</td>       <th>  Adj. R-squared:    </th> <td>   0.081</td> \n",
       "</tr>\n",
       "<tr>\n",
       "  <th>Method:</th>             <td>Least Squares</td>  <th>  F-statistic:       </th> <td>   32.17</td> \n",
       "</tr>\n",
       "<tr>\n",
       "  <th>Date:</th>             <td>Mon, 22 Nov 2021</td> <th>  Prob (F-statistic):</th> <td>2.75e-37</td> \n",
       "</tr>\n",
       "<tr>\n",
       "  <th>Time:</th>                 <td>12:11:24</td>     <th>  Log-Likelihood:    </th> <td> -5075.4</td> \n",
       "</tr>\n",
       "<tr>\n",
       "  <th>No. Observations:</th>      <td>  2186</td>      <th>  AIC:               </th> <td>1.016e+04</td>\n",
       "</tr>\n",
       "<tr>\n",
       "  <th>Df Residuals:</th>          <td>  2179</td>      <th>  BIC:               </th> <td>1.020e+04</td>\n",
       "</tr>\n",
       "<tr>\n",
       "  <th>Df Model:</th>              <td>     6</td>      <th>                     </th>     <td> </td>    \n",
       "</tr>\n",
       "<tr>\n",
       "  <th>Covariance Type:</th>         <td>hc1</td>       <th>                     </th>     <td> </td>    \n",
       "</tr>\n",
       "</table>\n",
       "<table class=\"simpletable\">\n",
       "<tr>\n",
       "     <td></td>        <th>coef</th>     <th>std err</th>      <th>z</th>      <th>P>|z|</th>  <th>[0.025</th>    <th>0.975]</th>  \n",
       "</tr>\n",
       "<tr>\n",
       "  <th>const</th>   <td>   11.4469</td> <td>    0.529</td> <td>   21.629</td> <td> 0.000</td> <td>   10.410</td> <td>   12.484</td>\n",
       "</tr>\n",
       "<tr>\n",
       "  <th>nearc4</th>  <td>    0.3207</td> <td>    0.124</td> <td>    2.586</td> <td> 0.010</td> <td>    0.078</td> <td>    0.564</td>\n",
       "</tr>\n",
       "<tr>\n",
       "  <th>age</th>     <td>    0.0509</td> <td>    0.018</td> <td>    2.788</td> <td> 0.005</td> <td>    0.015</td> <td>    0.087</td>\n",
       "</tr>\n",
       "<tr>\n",
       "  <th>black</th>   <td>   -1.2182</td> <td>    0.157</td> <td>   -7.762</td> <td> 0.000</td> <td>   -1.526</td> <td>   -0.911</td>\n",
       "</tr>\n",
       "<tr>\n",
       "  <th>smsa</th>    <td>    0.7040</td> <td>    0.130</td> <td>    5.426</td> <td> 0.000</td> <td>    0.450</td> <td>    0.958</td>\n",
       "</tr>\n",
       "<tr>\n",
       "  <th>south</th>   <td>   -0.2846</td> <td>    0.118</td> <td>   -2.414</td> <td> 0.016</td> <td>   -0.516</td> <td>   -0.054</td>\n",
       "</tr>\n",
       "<tr>\n",
       "  <th>married</th> <td>    0.1533</td> <td>    0.025</td> <td>    6.017</td> <td> 0.000</td> <td>    0.103</td> <td>    0.203</td>\n",
       "</tr>\n",
       "</table>\n",
       "<table class=\"simpletable\">\n",
       "<tr>\n",
       "  <th>Omnibus:</th>       <td>17.737</td> <th>  Durbin-Watson:     </th> <td>   1.827</td>\n",
       "</tr>\n",
       "<tr>\n",
       "  <th>Prob(Omnibus):</th> <td> 0.000</td> <th>  Jarque-Bera (JB):  </th> <td>  18.049</td>\n",
       "</tr>\n",
       "<tr>\n",
       "  <th>Skew:</th>          <td>-0.207</td> <th>  Prob(JB):          </th> <td>0.000120</td>\n",
       "</tr>\n",
       "<tr>\n",
       "  <th>Kurtosis:</th>      <td> 3.164</td> <th>  Cond. No.          </th> <td>    282.</td>\n",
       "</tr>\n",
       "</table><br/><br/>Notes:<br/>[1] Standard Errors are heteroscedasticity robust (HC1)"
      ],
      "text/plain": [
       "<class 'statsmodels.iolib.summary.Summary'>\n",
       "\"\"\"\n",
       "                            OLS Regression Results                            \n",
       "==============================================================================\n",
       "Dep. Variable:                   educ   R-squared:                       0.084\n",
       "Model:                            OLS   Adj. R-squared:                  0.081\n",
       "Method:                 Least Squares   F-statistic:                     32.17\n",
       "Date:                Mon, 22 Nov 2021   Prob (F-statistic):           2.75e-37\n",
       "Time:                        12:11:24   Log-Likelihood:                -5075.4\n",
       "No. Observations:                2186   AIC:                         1.016e+04\n",
       "Df Residuals:                    2179   BIC:                         1.020e+04\n",
       "Df Model:                           6                                         \n",
       "Covariance Type:                  hc1                                         \n",
       "==============================================================================\n",
       "                 coef    std err          z      P>|z|      [0.025      0.975]\n",
       "------------------------------------------------------------------------------\n",
       "const         11.4469      0.529     21.629      0.000      10.410      12.484\n",
       "nearc4         0.3207      0.124      2.586      0.010       0.078       0.564\n",
       "age            0.0509      0.018      2.788      0.005       0.015       0.087\n",
       "black         -1.2182      0.157     -7.762      0.000      -1.526      -0.911\n",
       "smsa           0.7040      0.130      5.426      0.000       0.450       0.958\n",
       "south         -0.2846      0.118     -2.414      0.016      -0.516      -0.054\n",
       "married        0.1533      0.025      6.017      0.000       0.103       0.203\n",
       "==============================================================================\n",
       "Omnibus:                       17.737   Durbin-Watson:                   1.827\n",
       "Prob(Omnibus):                  0.000   Jarque-Bera (JB):               18.049\n",
       "Skew:                          -0.207   Prob(JB):                     0.000120\n",
       "Kurtosis:                       3.164   Cond. No.                         282.\n",
       "==============================================================================\n",
       "\n",
       "Notes:\n",
       "[1] Standard Errors are heteroscedasticity robust (HC1)\n",
       "\"\"\""
      ]
     },
     "execution_count": 55,
     "metadata": {},
     "output_type": "execute_result"
    }
   ],
   "source": [
    "##run a regression of education on nearc4, adding the controls you selected before and using robust standard errors\n",
    "\n",
    "# As exper is calculated based on 'age' and 'educ' we will exclude it from the regression.\n",
    "# Additionally, 'kww' adds too much noise, so we will exclude it as well.\n",
    "# Age does not seem to be statistically significant either.\n",
    "\n",
    "fs = sm.OLS(df['educ'], sm.add_constant(df[['nearc4', *covariates]])).fit(cov_type='hc1')\n",
    "fs.summary()"
   ]
  },
  {
   "cell_type": "code",
   "execution_count": 56,
   "metadata": {},
   "outputs": [],
   "source": [
    "##predict education from the previous regression\n",
    "df['educhat'] = fs.predict()"
   ]
  },
  {
   "cell_type": "code",
   "execution_count": 65,
   "metadata": {},
   "outputs": [
    {
     "name": "stdout",
     "output_type": "stream",
     "text": [
      "                            OLS Regression Results                            \n",
      "==============================================================================\n",
      "Dep. Variable:                  lwage   R-squared:                       0.238\n",
      "Model:                            OLS   Adj. R-squared:                  0.236\n",
      "Method:                 Least Squares   F-statistic:                     112.8\n",
      "Date:                Mon, 22 Nov 2021   Prob (F-statistic):          3.54e-124\n",
      "Time:                        12:18:51   Log-Likelihood:                -1005.1\n",
      "No. Observations:                2186   AIC:                             2024.\n",
      "Df Residuals:                    2179   BIC:                             2064.\n",
      "Df Model:                           6                                         \n",
      "Covariance Type:                  hc1                                         \n",
      "==============================================================================\n",
      "                 coef    std err          z      P>|z|      [0.025      0.975]\n",
      "------------------------------------------------------------------------------\n",
      "const          4.6340      0.668      6.941      0.000       3.325       5.943\n",
      "educhat        0.0467      0.058      0.812      0.417      -0.066       0.159\n",
      "age            0.0376      0.004      8.984      0.000       0.029       0.046\n",
      "black         -0.1415      0.074     -1.925      0.054      -0.286       0.003\n",
      "smsa           0.1633      0.050      3.298      0.001       0.066       0.260\n",
      "south         -0.1211      0.026     -4.599      0.000      -0.173      -0.070\n",
      "married       -0.0373      0.010     -3.742      0.000      -0.057      -0.018\n",
      "==============================================================================\n",
      "Omnibus:                       36.263   Durbin-Watson:                   1.827\n",
      "Prob(Omnibus):                  0.000   Jarque-Bera (JB):               44.420\n",
      "Skew:                          -0.237   Prob(JB):                     2.26e-10\n",
      "Kurtosis:                       3.514   Cond. No.                     2.69e+03\n",
      "==============================================================================\n",
      "\n",
      "Notes:\n",
      "[1] Standard Errors are heteroscedasticity robust (HC1)\n",
      "[2] The condition number is large, 2.69e+03. This might indicate that there are\n",
      "strong multicollinearity or other numerical problems.\n"
     ]
    }
   ],
   "source": [
    "##run a regression of log wages on education and controls using robust standard errors\n",
    "\n",
    "# I assume you mean to regress log wages on predicted education from first stage to get second stage\n",
    "twosls = sm.OLS(df['lwage'], sm.add_constant(df[['educhat', *covariates]])).fit(cov_type='hc1')\n",
    "print(twosls.summary())"
   ]
  },
  {
   "cell_type": "code",
   "execution_count": 66,
   "metadata": {},
   "outputs": [
    {
     "name": "stdout",
     "output_type": "stream",
     "text": [
      "\n",
      "===============================\n",
      "               lwage I lwage II\n",
      "-------------------------------\n",
      "educ           0.035           \n",
      "               (0.003)         \n",
      "educhat                0.047   \n",
      "                       (0.058) \n",
      "age            0.038   0.038   \n",
      "               (0.003) (0.004) \n",
      "black          -0.156  -0.142  \n",
      "               (0.024) (0.074) \n",
      "const          4.771   4.634   \n",
      "               (0.091) (0.668) \n",
      "married        -0.035  -0.037  \n",
      "               (0.004) (0.010) \n",
      "smsa           0.173   0.163   \n",
      "               (0.018) (0.050) \n",
      "south          -0.125  -0.121  \n",
      "               (0.018) (0.026) \n",
      "R-squared      0.277   0.238   \n",
      "R-squared Adj. 0.275   0.236   \n",
      "N              2186    2186    \n",
      "===============================\n",
      "Standard errors in parentheses.\n"
     ]
    }
   ],
   "source": [
    "##compare the 2sls and ols estimates \n",
    "print(summary_col([ols, twosls], float_format='%0.3f',  info_dict={'N':lambda x: \"{0:d}\".format(int(x.nobs))}, regressor_order=['educ', 'educhat']))"
   ]
  },
  {
   "cell_type": "markdown",
   "metadata": {},
   "source": [
    "**What do you think the difference in the estimates is due to?**"
   ]
  },
  {
   "cell_type": "markdown",
   "metadata": {},
   "source": [
    "The IV estimate is higher by about .01 than the pure OLS estimate. This might be because many people don't get higher education simply because of the lack of a nearby college. By including 'nearc4' as instrument we can get predictions as if those people had a college nearby."
   ]
  },
  {
   "cell_type": "markdown",
   "metadata": {},
   "source": [
    "### IV analysis"
   ]
  },
  {
   "cell_type": "code",
   "execution_count": 69,
   "metadata": {},
   "outputs": [
    {
     "name": "stdout",
     "output_type": "stream",
     "text": [
      "                          IV-2SLS Estimation Summary                          \n",
      "==============================================================================\n",
      "Dep. Variable:                  lwage   R-squared:                      0.2512\n",
      "Estimator:                    IV-2SLS   Adj. R-squared:                 0.2491\n",
      "No. Observations:                2186   F-statistic:                    725.02\n",
      "Date:                Mon, Nov 22 2021   P-value (F-stat)                0.0000\n",
      "Time:                        12:22:00   Distribution:                  chi2(6)\n",
      "Cov. Estimator:                robust                                         \n",
      "                                                                              \n",
      "                             Parameter Estimates                              \n",
      "==============================================================================\n",
      "            Parameter  Std. Err.     T-stat    P-value    Lower CI    Upper CI\n",
      "------------------------------------------------------------------------------\n",
      "const          4.4431     0.6634     6.6977     0.0000      3.1429      5.7432\n",
      "age            0.0367     0.0041     8.9629     0.0000      0.0287      0.0447\n",
      "black         -0.1214     0.0723    -1.6785     0.0932     -0.2632      0.0204\n",
      "smsa           0.1499     0.0492     3.0449     0.0023      0.0534      0.2465\n",
      "south         -0.1156     0.0260    -4.4455     0.0000     -0.1666     -0.0646\n",
      "married       -0.0398     0.0098    -4.0537     0.0001     -0.0591     -0.0206\n",
      "educ           0.0632     0.0570     1.1080     0.2679     -0.0486      0.1749\n",
      "==============================================================================\n",
      "\n",
      "Endogenous: educ\n",
      "Instruments: nearc2, nearc4\n",
      "Robust Covariance (Heteroskedastic)\n",
      "Debiased: False\n"
     ]
    }
   ],
   "source": [
    "##use IV2sls to run the regression of log wages on education. using college proximity as an instrument for education\n",
    "##add the same controls as \n",
    "\n",
    "exog = sm.add_constant(df[covariates])\n",
    "ivs = df[['nearc2', 'nearc4']]\n",
    "iv2sls = IV2SLS(df['lwage'], exog, df['educ'], ivs).fit(cov_type='robust')\n",
    "print(iv2sls)"
   ]
  },
  {
   "cell_type": "markdown",
   "metadata": {},
   "source": [
    "By using only 'nearc4' as instrument the IV estimate is identical to the \"manual\" one. Adding 'nearc2' increases the estimate by another .02. This indicates that the two instrumental variables are indeed good IV's."
   ]
  }
 ],
 "metadata": {
  "kernelspec": {
   "display_name": "Python 3",
   "language": "python",
   "name": "python3"
  },
  "language_info": {
   "codemirror_mode": {
    "name": "ipython",
    "version": 3
   },
   "file_extension": ".py",
   "mimetype": "text/x-python",
   "name": "python",
   "nbconvert_exporter": "python",
   "pygments_lexer": "ipython3",
   "version": "3.8.12"
  }
 },
 "nbformat": 4,
 "nbformat_minor": 4
}
