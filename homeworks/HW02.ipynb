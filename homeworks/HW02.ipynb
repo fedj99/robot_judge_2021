{
 "cells": [
  {
   "cell_type": "markdown",
   "metadata": {},
   "source": [
    "# HW02 (due October 12th)"
   ]
  },
  {
   "cell_type": "markdown",
   "metadata": {},
   "source": [
    "In this homework you will investigate the *causal* of being part of a union on the number of hours worked. You will work with data from the National Longitudinal Survey. In particular, you have a panel of young women who were between 14 and 26 years of age in 1968, surveyed for 20 years.\n",
    "\n",
    "The purpose of this homework is ot make you think about the **identification** assumptions underlying your empirical strategy, namely the assumptions that allow the coefficient estimate from the regressions to be causal. Throughout the homework you will try to address the issue of **omitted variable bias** through different strategies, that will allow to make milder identification assumptions."
   ]
  },
  {
   "cell_type": "markdown",
   "metadata": {},
   "source": [
    "# Load Data"
   ]
  },
  {
   "cell_type": "code",
   "execution_count": 34,
   "metadata": {},
   "outputs": [],
   "source": [
    "##Load the NLSY dataset\n",
    "import matplotlib.pyplot as plt\n",
    "import pandas as pd\n",
    "import statsmodels.formula.api as smf\n",
    "import numpy as np\n",
    "\n",
    "data = pd.read_stata('https://www.stata-press.com/data/r16/nlswork.dta')"
   ]
  },
  {
   "cell_type": "markdown",
   "metadata": {},
   "source": [
    "#  Summary statistics"
   ]
  },
  {
   "cell_type": "markdown",
   "metadata": {},
   "source": [
    "Inspect the data."
   ]
  },
  {
   "cell_type": "code",
   "execution_count": 8,
   "metadata": {},
   "outputs": [
    {
     "data": {
      "text/plain": "   idcode  year  birth_yr   age   race  msp  nev_mar  grade  collgrad  \\\n0       1    70        51  18.0  black  0.0      1.0   12.0         0   \n1       1    71        51  19.0  black  1.0      0.0   12.0         0   \n2       1    72        51  20.0  black  1.0      0.0   12.0         0   \n3       1    73        51  21.0  black  1.0      0.0   12.0         0   \n4       1    75        51  23.0  black  1.0      0.0   12.0         0   \n\n   not_smsa  ...  south  ind_code  occ_code  union  wks_ue   ttl_exp  \\\n0       0.0  ...    0.0       6.0       3.0    NaN     2.0  1.083333   \n1       0.0  ...    0.0       4.0       6.0    NaN    22.0  1.275641   \n2       0.0  ...    0.0       4.0       6.0    1.0     0.0  2.256410   \n3       0.0  ...    0.0       4.0       6.0    NaN     0.0  2.314102   \n4       0.0  ...    0.0       5.0       6.0    NaN     0.0  2.775641   \n\n     tenure  hours  wks_work   ln_wage  \n0  0.083333   20.0      27.0  1.451214  \n1  0.083333   44.0      10.0  1.028620  \n2  0.916667   40.0      51.0  1.589977  \n3  0.083333   40.0       3.0  1.780273  \n4  0.166667   10.0      24.0  1.777012  \n\n[5 rows x 21 columns]",
      "text/html": "<div>\n<style scoped>\n    .dataframe tbody tr th:only-of-type {\n        vertical-align: middle;\n    }\n\n    .dataframe tbody tr th {\n        vertical-align: top;\n    }\n\n    .dataframe thead th {\n        text-align: right;\n    }\n</style>\n<table border=\"1\" class=\"dataframe\">\n  <thead>\n    <tr style=\"text-align: right;\">\n      <th></th>\n      <th>idcode</th>\n      <th>year</th>\n      <th>birth_yr</th>\n      <th>age</th>\n      <th>race</th>\n      <th>msp</th>\n      <th>nev_mar</th>\n      <th>grade</th>\n      <th>collgrad</th>\n      <th>not_smsa</th>\n      <th>...</th>\n      <th>south</th>\n      <th>ind_code</th>\n      <th>occ_code</th>\n      <th>union</th>\n      <th>wks_ue</th>\n      <th>ttl_exp</th>\n      <th>tenure</th>\n      <th>hours</th>\n      <th>wks_work</th>\n      <th>ln_wage</th>\n    </tr>\n  </thead>\n  <tbody>\n    <tr>\n      <th>0</th>\n      <td>1</td>\n      <td>70</td>\n      <td>51</td>\n      <td>18.0</td>\n      <td>black</td>\n      <td>0.0</td>\n      <td>1.0</td>\n      <td>12.0</td>\n      <td>0</td>\n      <td>0.0</td>\n      <td>...</td>\n      <td>0.0</td>\n      <td>6.0</td>\n      <td>3.0</td>\n      <td>NaN</td>\n      <td>2.0</td>\n      <td>1.083333</td>\n      <td>0.083333</td>\n      <td>20.0</td>\n      <td>27.0</td>\n      <td>1.451214</td>\n    </tr>\n    <tr>\n      <th>1</th>\n      <td>1</td>\n      <td>71</td>\n      <td>51</td>\n      <td>19.0</td>\n      <td>black</td>\n      <td>1.0</td>\n      <td>0.0</td>\n      <td>12.0</td>\n      <td>0</td>\n      <td>0.0</td>\n      <td>...</td>\n      <td>0.0</td>\n      <td>4.0</td>\n      <td>6.0</td>\n      <td>NaN</td>\n      <td>22.0</td>\n      <td>1.275641</td>\n      <td>0.083333</td>\n      <td>44.0</td>\n      <td>10.0</td>\n      <td>1.028620</td>\n    </tr>\n    <tr>\n      <th>2</th>\n      <td>1</td>\n      <td>72</td>\n      <td>51</td>\n      <td>20.0</td>\n      <td>black</td>\n      <td>1.0</td>\n      <td>0.0</td>\n      <td>12.0</td>\n      <td>0</td>\n      <td>0.0</td>\n      <td>...</td>\n      <td>0.0</td>\n      <td>4.0</td>\n      <td>6.0</td>\n      <td>1.0</td>\n      <td>0.0</td>\n      <td>2.256410</td>\n      <td>0.916667</td>\n      <td>40.0</td>\n      <td>51.0</td>\n      <td>1.589977</td>\n    </tr>\n    <tr>\n      <th>3</th>\n      <td>1</td>\n      <td>73</td>\n      <td>51</td>\n      <td>21.0</td>\n      <td>black</td>\n      <td>1.0</td>\n      <td>0.0</td>\n      <td>12.0</td>\n      <td>0</td>\n      <td>0.0</td>\n      <td>...</td>\n      <td>0.0</td>\n      <td>4.0</td>\n      <td>6.0</td>\n      <td>NaN</td>\n      <td>0.0</td>\n      <td>2.314102</td>\n      <td>0.083333</td>\n      <td>40.0</td>\n      <td>3.0</td>\n      <td>1.780273</td>\n    </tr>\n    <tr>\n      <th>4</th>\n      <td>1</td>\n      <td>75</td>\n      <td>51</td>\n      <td>23.0</td>\n      <td>black</td>\n      <td>1.0</td>\n      <td>0.0</td>\n      <td>12.0</td>\n      <td>0</td>\n      <td>0.0</td>\n      <td>...</td>\n      <td>0.0</td>\n      <td>5.0</td>\n      <td>6.0</td>\n      <td>NaN</td>\n      <td>0.0</td>\n      <td>2.775641</td>\n      <td>0.166667</td>\n      <td>10.0</td>\n      <td>24.0</td>\n      <td>1.777012</td>\n    </tr>\n  </tbody>\n</table>\n<p>5 rows × 21 columns</p>\n</div>"
     },
     "execution_count": 8,
     "metadata": {},
     "output_type": "execute_result"
    }
   ],
   "source": [
    "# Visualize the dataset\n",
    "data.head()"
   ]
  },
  {
   "cell_type": "code",
   "execution_count": 9,
   "outputs": [
    {
     "data": {
      "text/plain": "             idcode          year      birth_yr           age           msp  \\\ncount  28534.000000  28534.000000  28534.000000  28510.000000  28518.000000   \nmean    2601.284292     77.958646     48.085091     29.045107      0.602917   \nstd     1487.358947      6.383879      3.012837      6.700584      0.489302   \nmin        1.000000     68.000000     41.000000     14.000000      0.000000   \n25%     1327.000000     72.000000     46.000000     23.000000      0.000000   \n50%     2606.000000     78.000000     48.000000     28.000000      1.000000   \n75%     3881.000000     83.000000     51.000000     34.000000      1.000000   \nmax     5159.000000     88.000000     54.000000     46.000000      1.000000   \n\n            nev_mar         grade      collgrad      not_smsa        c_city  \\\ncount  28518.000000  28532.000000  28534.000000  28526.000000  28526.000000   \nmean       0.229680     12.532595      0.168045      0.282444      0.357218   \nstd        0.420634      2.323905      0.373913      0.450196      0.479188   \nmin        0.000000      0.000000      0.000000      0.000000      0.000000   \n25%        0.000000     12.000000      0.000000      0.000000      0.000000   \n50%        0.000000     12.000000      0.000000      0.000000      0.000000   \n75%        0.000000     14.000000      0.000000      1.000000      1.000000   \nmax        1.000000     18.000000      1.000000      1.000000      1.000000   \n\n              south      ind_code      occ_code         union        wks_ue  \\\ncount  28526.000000  28193.000000  28413.000000  19238.000000  22830.000000   \nmean       0.409556      7.692973      4.777672      0.234432      2.548095   \nstd        0.491761      2.994025      3.065435      0.423654      7.294463   \nmin        0.000000      1.000000      1.000000      0.000000      0.000000   \n25%        0.000000      5.000000      3.000000      0.000000      0.000000   \n50%        0.000000      7.000000      3.000000      0.000000      0.000000   \n75%        1.000000     11.000000      6.000000      0.000000      0.000000   \nmax        1.000000     12.000000     13.000000      1.000000     76.000000   \n\n            ttl_exp        tenure         hours      wks_work       ln_wage  \ncount  28534.000000  28101.000000  28467.000000  27831.000000  28534.000000  \nmean       6.215316      3.123836     36.559560     53.989328      1.674907  \nstd        4.652117      3.751409      9.869623     29.032325      0.478093  \nmin        0.000000      0.000000      1.000000      0.000000      0.000000  \n25%        2.461539      0.500000     35.000000     36.000000      1.361496  \n50%        5.057693      1.666667     40.000000     52.000000      1.640541  \n75%        9.128204      4.166667     40.000000     72.000000      1.964083  \nmax       28.884615     25.916666    168.000000    104.000000      5.263916  ",
      "text/html": "<div>\n<style scoped>\n    .dataframe tbody tr th:only-of-type {\n        vertical-align: middle;\n    }\n\n    .dataframe tbody tr th {\n        vertical-align: top;\n    }\n\n    .dataframe thead th {\n        text-align: right;\n    }\n</style>\n<table border=\"1\" class=\"dataframe\">\n  <thead>\n    <tr style=\"text-align: right;\">\n      <th></th>\n      <th>idcode</th>\n      <th>year</th>\n      <th>birth_yr</th>\n      <th>age</th>\n      <th>msp</th>\n      <th>nev_mar</th>\n      <th>grade</th>\n      <th>collgrad</th>\n      <th>not_smsa</th>\n      <th>c_city</th>\n      <th>south</th>\n      <th>ind_code</th>\n      <th>occ_code</th>\n      <th>union</th>\n      <th>wks_ue</th>\n      <th>ttl_exp</th>\n      <th>tenure</th>\n      <th>hours</th>\n      <th>wks_work</th>\n      <th>ln_wage</th>\n    </tr>\n  </thead>\n  <tbody>\n    <tr>\n      <th>count</th>\n      <td>28534.000000</td>\n      <td>28534.000000</td>\n      <td>28534.000000</td>\n      <td>28510.000000</td>\n      <td>28518.000000</td>\n      <td>28518.000000</td>\n      <td>28532.000000</td>\n      <td>28534.000000</td>\n      <td>28526.000000</td>\n      <td>28526.000000</td>\n      <td>28526.000000</td>\n      <td>28193.000000</td>\n      <td>28413.000000</td>\n      <td>19238.000000</td>\n      <td>22830.000000</td>\n      <td>28534.000000</td>\n      <td>28101.000000</td>\n      <td>28467.000000</td>\n      <td>27831.000000</td>\n      <td>28534.000000</td>\n    </tr>\n    <tr>\n      <th>mean</th>\n      <td>2601.284292</td>\n      <td>77.958646</td>\n      <td>48.085091</td>\n      <td>29.045107</td>\n      <td>0.602917</td>\n      <td>0.229680</td>\n      <td>12.532595</td>\n      <td>0.168045</td>\n      <td>0.282444</td>\n      <td>0.357218</td>\n      <td>0.409556</td>\n      <td>7.692973</td>\n      <td>4.777672</td>\n      <td>0.234432</td>\n      <td>2.548095</td>\n      <td>6.215316</td>\n      <td>3.123836</td>\n      <td>36.559560</td>\n      <td>53.989328</td>\n      <td>1.674907</td>\n    </tr>\n    <tr>\n      <th>std</th>\n      <td>1487.358947</td>\n      <td>6.383879</td>\n      <td>3.012837</td>\n      <td>6.700584</td>\n      <td>0.489302</td>\n      <td>0.420634</td>\n      <td>2.323905</td>\n      <td>0.373913</td>\n      <td>0.450196</td>\n      <td>0.479188</td>\n      <td>0.491761</td>\n      <td>2.994025</td>\n      <td>3.065435</td>\n      <td>0.423654</td>\n      <td>7.294463</td>\n      <td>4.652117</td>\n      <td>3.751409</td>\n      <td>9.869623</td>\n      <td>29.032325</td>\n      <td>0.478093</td>\n    </tr>\n    <tr>\n      <th>min</th>\n      <td>1.000000</td>\n      <td>68.000000</td>\n      <td>41.000000</td>\n      <td>14.000000</td>\n      <td>0.000000</td>\n      <td>0.000000</td>\n      <td>0.000000</td>\n      <td>0.000000</td>\n      <td>0.000000</td>\n      <td>0.000000</td>\n      <td>0.000000</td>\n      <td>1.000000</td>\n      <td>1.000000</td>\n      <td>0.000000</td>\n      <td>0.000000</td>\n      <td>0.000000</td>\n      <td>0.000000</td>\n      <td>1.000000</td>\n      <td>0.000000</td>\n      <td>0.000000</td>\n    </tr>\n    <tr>\n      <th>25%</th>\n      <td>1327.000000</td>\n      <td>72.000000</td>\n      <td>46.000000</td>\n      <td>23.000000</td>\n      <td>0.000000</td>\n      <td>0.000000</td>\n      <td>12.000000</td>\n      <td>0.000000</td>\n      <td>0.000000</td>\n      <td>0.000000</td>\n      <td>0.000000</td>\n      <td>5.000000</td>\n      <td>3.000000</td>\n      <td>0.000000</td>\n      <td>0.000000</td>\n      <td>2.461539</td>\n      <td>0.500000</td>\n      <td>35.000000</td>\n      <td>36.000000</td>\n      <td>1.361496</td>\n    </tr>\n    <tr>\n      <th>50%</th>\n      <td>2606.000000</td>\n      <td>78.000000</td>\n      <td>48.000000</td>\n      <td>28.000000</td>\n      <td>1.000000</td>\n      <td>0.000000</td>\n      <td>12.000000</td>\n      <td>0.000000</td>\n      <td>0.000000</td>\n      <td>0.000000</td>\n      <td>0.000000</td>\n      <td>7.000000</td>\n      <td>3.000000</td>\n      <td>0.000000</td>\n      <td>0.000000</td>\n      <td>5.057693</td>\n      <td>1.666667</td>\n      <td>40.000000</td>\n      <td>52.000000</td>\n      <td>1.640541</td>\n    </tr>\n    <tr>\n      <th>75%</th>\n      <td>3881.000000</td>\n      <td>83.000000</td>\n      <td>51.000000</td>\n      <td>34.000000</td>\n      <td>1.000000</td>\n      <td>0.000000</td>\n      <td>14.000000</td>\n      <td>0.000000</td>\n      <td>1.000000</td>\n      <td>1.000000</td>\n      <td>1.000000</td>\n      <td>11.000000</td>\n      <td>6.000000</td>\n      <td>0.000000</td>\n      <td>0.000000</td>\n      <td>9.128204</td>\n      <td>4.166667</td>\n      <td>40.000000</td>\n      <td>72.000000</td>\n      <td>1.964083</td>\n    </tr>\n    <tr>\n      <th>max</th>\n      <td>5159.000000</td>\n      <td>88.000000</td>\n      <td>54.000000</td>\n      <td>46.000000</td>\n      <td>1.000000</td>\n      <td>1.000000</td>\n      <td>18.000000</td>\n      <td>1.000000</td>\n      <td>1.000000</td>\n      <td>1.000000</td>\n      <td>1.000000</td>\n      <td>12.000000</td>\n      <td>13.000000</td>\n      <td>1.000000</td>\n      <td>76.000000</td>\n      <td>28.884615</td>\n      <td>25.916666</td>\n      <td>168.000000</td>\n      <td>104.000000</td>\n      <td>5.263916</td>\n    </tr>\n  </tbody>\n</table>\n</div>"
     },
     "execution_count": 9,
     "metadata": {},
     "output_type": "execute_result"
    }
   ],
   "source": [
    "data.describe()"
   ],
   "metadata": {
    "collapsed": false,
    "pycharm": {
     "name": "#%%\n"
    }
   }
  },
  {
   "cell_type": "code",
   "execution_count": 11,
   "outputs": [
    {
     "data": {
      "text/plain": "Index(['idcode', 'year', 'birth_yr', 'age', 'race', 'msp', 'nev_mar', 'grade',\n       'collgrad', 'not_smsa', 'c_city', 'south', 'ind_code', 'occ_code',\n       'union', 'wks_ue', 'ttl_exp', 'tenure', 'hours', 'wks_work', 'ln_wage'],\n      dtype='object')"
     },
     "execution_count": 11,
     "metadata": {},
     "output_type": "execute_result"
    }
   ],
   "source": [
    "data.columns"
   ],
   "metadata": {
    "collapsed": false,
    "pycharm": {
     "name": "#%%\n"
    }
   }
  },
  {
   "cell_type": "code",
   "execution_count": 12,
   "outputs": [
    {
     "data": {
      "text/plain": "12.0    14252\n16.0     2681\n11.0     1781\n14.0     1751\n13.0     1734\n10.0     1518\n15.0      950\n18.0      921\n9.0       889\n17.0      851\n8.0       671\n7.0       262\n6.0       161\n5.0        41\n4.0        36\n0.0        21\n1.0         6\n2.0         4\n3.0         2\nName: grade, dtype: int64"
     },
     "execution_count": 12,
     "metadata": {},
     "output_type": "execute_result"
    }
   ],
   "source": [
    "data['grade'].value_counts()"
   ],
   "metadata": {
    "collapsed": false,
    "pycharm": {
     "name": "#%%\n"
    }
   }
  },
  {
   "cell_type": "code",
   "execution_count": 24,
   "metadata": {},
   "outputs": [
    {
     "data": {
      "text/plain": "collgrad  union\n0         0.0      12067\n          1.0       3413\n1         0.0       2661\n          1.0       1097\ndtype: int64"
     },
     "execution_count": 24,
     "metadata": {},
     "output_type": "execute_result"
    }
   ],
   "source": [
    "# Tabulate college and union status\n",
    "college_union = data[['collgrad', 'union']].dropna()\n",
    "college_union.value_counts()"
   ]
  },
  {
   "cell_type": "code",
   "execution_count": 96,
   "metadata": {},
   "outputs": [
    {
     "data": {
      "text/plain": "   idcode  year  birth_yr   age   race  msp  nev_mar  grade  collgrad  \\\n0       1    70        51  18.0  black  0.0      1.0   12.0         0   \n1       1    71        51  19.0  black  1.0      0.0   12.0         0   \n2       1    72        51  20.0  black  1.0      0.0   12.0         0   \n3       1    73        51  21.0  black  1.0      0.0   12.0         0   \n4       1    75        51  23.0  black  1.0      0.0   12.0         0   \n\n   not_smsa  ...  ind_code  occ_code  union  wks_ue   ttl_exp    tenure  \\\n0       0.0  ...       6.0       3.0    NaN     2.0  1.083333  0.083333   \n1       0.0  ...       4.0       6.0    NaN    22.0  1.275641  0.083333   \n2       0.0  ...       4.0       6.0    1.0     0.0  2.256410  0.916667   \n3       0.0  ...       4.0       6.0    NaN     0.0  2.314102  0.083333   \n4       0.0  ...       5.0       6.0    NaN     0.0  2.775641  0.166667   \n\n   hours  wks_work   ln_wage  log_hours  \n0   20.0      27.0  1.451214   2.995732  \n1   44.0      10.0  1.028620   3.784190  \n2   40.0      51.0  1.589977   3.688879  \n3   40.0       3.0  1.780273   3.688879  \n4   10.0      24.0  1.777012   2.302585  \n\n[5 rows x 22 columns]",
      "text/html": "<div>\n<style scoped>\n    .dataframe tbody tr th:only-of-type {\n        vertical-align: middle;\n    }\n\n    .dataframe tbody tr th {\n        vertical-align: top;\n    }\n\n    .dataframe thead th {\n        text-align: right;\n    }\n</style>\n<table border=\"1\" class=\"dataframe\">\n  <thead>\n    <tr style=\"text-align: right;\">\n      <th></th>\n      <th>idcode</th>\n      <th>year</th>\n      <th>birth_yr</th>\n      <th>age</th>\n      <th>race</th>\n      <th>msp</th>\n      <th>nev_mar</th>\n      <th>grade</th>\n      <th>collgrad</th>\n      <th>not_smsa</th>\n      <th>...</th>\n      <th>ind_code</th>\n      <th>occ_code</th>\n      <th>union</th>\n      <th>wks_ue</th>\n      <th>ttl_exp</th>\n      <th>tenure</th>\n      <th>hours</th>\n      <th>wks_work</th>\n      <th>ln_wage</th>\n      <th>log_hours</th>\n    </tr>\n  </thead>\n  <tbody>\n    <tr>\n      <th>0</th>\n      <td>1</td>\n      <td>70</td>\n      <td>51</td>\n      <td>18.0</td>\n      <td>black</td>\n      <td>0.0</td>\n      <td>1.0</td>\n      <td>12.0</td>\n      <td>0</td>\n      <td>0.0</td>\n      <td>...</td>\n      <td>6.0</td>\n      <td>3.0</td>\n      <td>NaN</td>\n      <td>2.0</td>\n      <td>1.083333</td>\n      <td>0.083333</td>\n      <td>20.0</td>\n      <td>27.0</td>\n      <td>1.451214</td>\n      <td>2.995732</td>\n    </tr>\n    <tr>\n      <th>1</th>\n      <td>1</td>\n      <td>71</td>\n      <td>51</td>\n      <td>19.0</td>\n      <td>black</td>\n      <td>1.0</td>\n      <td>0.0</td>\n      <td>12.0</td>\n      <td>0</td>\n      <td>0.0</td>\n      <td>...</td>\n      <td>4.0</td>\n      <td>6.0</td>\n      <td>NaN</td>\n      <td>22.0</td>\n      <td>1.275641</td>\n      <td>0.083333</td>\n      <td>44.0</td>\n      <td>10.0</td>\n      <td>1.028620</td>\n      <td>3.784190</td>\n    </tr>\n    <tr>\n      <th>2</th>\n      <td>1</td>\n      <td>72</td>\n      <td>51</td>\n      <td>20.0</td>\n      <td>black</td>\n      <td>1.0</td>\n      <td>0.0</td>\n      <td>12.0</td>\n      <td>0</td>\n      <td>0.0</td>\n      <td>...</td>\n      <td>4.0</td>\n      <td>6.0</td>\n      <td>1.0</td>\n      <td>0.0</td>\n      <td>2.256410</td>\n      <td>0.916667</td>\n      <td>40.0</td>\n      <td>51.0</td>\n      <td>1.589977</td>\n      <td>3.688879</td>\n    </tr>\n    <tr>\n      <th>3</th>\n      <td>1</td>\n      <td>73</td>\n      <td>51</td>\n      <td>21.0</td>\n      <td>black</td>\n      <td>1.0</td>\n      <td>0.0</td>\n      <td>12.0</td>\n      <td>0</td>\n      <td>0.0</td>\n      <td>...</td>\n      <td>4.0</td>\n      <td>6.0</td>\n      <td>NaN</td>\n      <td>0.0</td>\n      <td>2.314102</td>\n      <td>0.083333</td>\n      <td>40.0</td>\n      <td>3.0</td>\n      <td>1.780273</td>\n      <td>3.688879</td>\n    </tr>\n    <tr>\n      <th>4</th>\n      <td>1</td>\n      <td>75</td>\n      <td>51</td>\n      <td>23.0</td>\n      <td>black</td>\n      <td>1.0</td>\n      <td>0.0</td>\n      <td>12.0</td>\n      <td>0</td>\n      <td>0.0</td>\n      <td>...</td>\n      <td>5.0</td>\n      <td>6.0</td>\n      <td>NaN</td>\n      <td>0.0</td>\n      <td>2.775641</td>\n      <td>0.166667</td>\n      <td>10.0</td>\n      <td>24.0</td>\n      <td>1.777012</td>\n      <td>2.302585</td>\n    </tr>\n  </tbody>\n</table>\n<p>5 rows × 22 columns</p>\n</div>"
     },
     "execution_count": 96,
     "metadata": {},
     "output_type": "execute_result"
    },
    {
     "data": {
      "text/plain": "<Figure size 432x288 with 1 Axes>",
      "image/png": "[encoded data removed]"
     },
     "metadata": {
      "needs_background": "light"
     },
     "output_type": "display_data"
    }
   ],
   "source": [
    "# Generate a variable for log hours worked\n",
    "log_hours_worked = np.log(data['hours'])\n",
    "log_hours_worked.hist()\n",
    "\n",
    "# Add to dataframe (?)\n",
    "data['log_hours'] = log_hours_worked"
   ]
  },
  {
   "cell_type": "code",
   "execution_count": 116,
   "metadata": {},
   "outputs": [
    {
     "data": {
      "text/plain": "<Figure size 720x360 with 1 Axes>",
      "image/png": "[encoded data removed]"
     },
     "metadata": {
      "needs_background": "light"
     },
     "output_type": "display_data"
    }
   ],
   "source": [
    "# Plot log hours against year separately for union and non-union\n",
    "\n",
    "# Get a sorted list of unique years worked\n",
    "# Need to exclude NaN union values as dimensions won't match otherwise\n",
    "# We could alternatively treat union == NaN as union == 0 and include them (?)\n",
    "distinct_years = np.sort(data[data['union'].notna()]['year'].unique())\n",
    "\n",
    "\n",
    "# This auxiliary function is to get log hours by union status\n",
    "# We first group by the year and then take the mean\n",
    "def get_hours_worked(query):\n",
    "    global data\n",
    "    return data.query(query).groupby('year')['log_hours'].mean()\n",
    "\n",
    "\n",
    "# Average log hours worked per year by union status\n",
    "log_hours_per_year_union = get_hours_worked('union == 1')\n",
    "log_hours_per_year_nonunion = get_hours_worked('union == 0')\n",
    "\n",
    "# Show some pretty graphs\n",
    "fig = plt.figure(figsize=(10, 5))\n",
    "plt.title('Average log hours worked per year per union status')\n",
    "plt.xlabel('year')\n",
    "plt.ylabel('average log(hours)')\n",
    "plt.plot(distinct_years, log_hours_per_year_union, label='Union')\n",
    "plt.plot(distinct_years, log_hours_per_year_nonunion, label='Non-Union')\n",
    "plt.legend()\n",
    "plt.grid()\n",
    "plt.show()"
   ]
  },
  {
   "cell_type": "markdown",
   "metadata": {},
   "source": [
    "# Regression: Effect of union status on hours worked"
   ]
  },
  {
   "cell_type": "code",
   "execution_count": 129,
   "metadata": {},
   "outputs": [],
   "source": [
    "# Regress hours worked against union status and display the results\n",
    "res = smf.ols('hours ~ union', data=data).fit()"
   ]
  },
  {
   "cell_type": "code",
   "execution_count": 130,
   "metadata": {},
   "outputs": [
    {
     "data": {
      "text/plain": "<class 'statsmodels.iolib.summary.Summary'>\n\"\"\"\n                            OLS Regression Results                            \n==============================================================================\nDep. Variable:                  hours   R-squared:                       0.007\nModel:                            OLS   Adj. R-squared:                  0.007\nMethod:                 Least Squares   F-statistic:                     136.6\nDate:                Fri, 08 Oct 2021   Prob (F-statistic):           1.85e-31\nTime:                        12:38:34   Log-Likelihood:                -70568.\nNo. Observations:               19202   AIC:                         1.411e+05\nDf Residuals:                   19200   BIC:                         1.412e+05\nDf Model:                           1                                         \nCovariance Type:            nonrobust                                         \n==============================================================================\n                 coef    std err          t      P>|t|      [0.025      0.975]\n------------------------------------------------------------------------------\nIntercept     36.3112      0.079    461.166      0.000      36.157      36.466\nunion          1.9006      0.163     11.689      0.000       1.582       2.219\n==============================================================================\nOmnibus:                     4058.592   Durbin-Watson:                   1.171\nProb(Omnibus):                  0.000   Jarque-Bera (JB):            22932.168\nSkew:                          -0.900   Prob(JB):                         0.00\nKurtosis:                       8.042   Cond. No.                         2.52\n==============================================================================\n\nNotes:\n[1] Standard Errors assume that the covariance matrix of the errors is correctly specified.\n\"\"\"",
      "text/html": "<table class=\"simpletable\">\n<caption>OLS Regression Results</caption>\n<tr>\n  <th>Dep. Variable:</th>          <td>hours</td>      <th>  R-squared:         </th> <td>   0.007</td> \n</tr>\n<tr>\n  <th>Model:</th>                   <td>OLS</td>       <th>  Adj. R-squared:    </th> <td>   0.007</td> \n</tr>\n<tr>\n  <th>Method:</th>             <td>Least Squares</td>  <th>  F-statistic:       </th> <td>   136.6</td> \n</tr>\n<tr>\n  <th>Date:</th>             <td>Fri, 08 Oct 2021</td> <th>  Prob (F-statistic):</th> <td>1.85e-31</td> \n</tr>\n<tr>\n  <th>Time:</th>                 <td>12:38:34</td>     <th>  Log-Likelihood:    </th> <td> -70568.</td> \n</tr>\n<tr>\n  <th>No. Observations:</th>      <td> 19202</td>      <th>  AIC:               </th> <td>1.411e+05</td>\n</tr>\n<tr>\n  <th>Df Residuals:</th>          <td> 19200</td>      <th>  BIC:               </th> <td>1.412e+05</td>\n</tr>\n<tr>\n  <th>Df Model:</th>              <td>     1</td>      <th>                     </th>     <td> </td>    \n</tr>\n<tr>\n  <th>Covariance Type:</th>      <td>nonrobust</td>    <th>                     </th>     <td> </td>    \n</tr>\n</table>\n<table class=\"simpletable\">\n<tr>\n      <td></td>         <th>coef</th>     <th>std err</th>      <th>t</th>      <th>P>|t|</th>  <th>[0.025</th>    <th>0.975]</th>  \n</tr>\n<tr>\n  <th>Intercept</th> <td>   36.3112</td> <td>    0.079</td> <td>  461.166</td> <td> 0.000</td> <td>   36.157</td> <td>   36.466</td>\n</tr>\n<tr>\n  <th>union</th>     <td>    1.9006</td> <td>    0.163</td> <td>   11.689</td> <td> 0.000</td> <td>    1.582</td> <td>    2.219</td>\n</tr>\n</table>\n<table class=\"simpletable\">\n<tr>\n  <th>Omnibus:</th>       <td>4058.592</td> <th>  Durbin-Watson:     </th> <td>   1.171</td> \n</tr>\n<tr>\n  <th>Prob(Omnibus):</th>  <td> 0.000</td>  <th>  Jarque-Bera (JB):  </th> <td>22932.168</td>\n</tr>\n<tr>\n  <th>Skew:</th>           <td>-0.900</td>  <th>  Prob(JB):          </th> <td>    0.00</td> \n</tr>\n<tr>\n  <th>Kurtosis:</th>       <td> 8.042</td>  <th>  Cond. No.          </th> <td>    2.52</td> \n</tr>\n</table><br/><br/>Notes:<br/>[1] Standard Errors assume that the covariance matrix of the errors is correctly specified."
     },
     "execution_count": 130,
     "metadata": {},
     "output_type": "execute_result"
    }
   ],
   "source": [
    "# Print or write out the coefficient on union, standard error, t-stat, p-value and confidence interval\n",
    "res.summary()"
   ]
  },
  {
   "cell_type": "markdown",
   "metadata": {},
   "source": [
    "#### What is the identification assumption for the coefficient on union to be causal?\n",
    "\n",
    "We are assuming that the error term is uncorrelated with the treatment variable, that is $\\text{Cov}(\\texttt{union}_i, \\epsilon_i) = 0$\n",
    "\n",
    "This is equivalent to stating that there are no confounders. This assumption might be wrong, as possible confounders could be the industry the person works in or the person's education status."
   ]
  },
  {
   "cell_type": "code",
   "execution_count": 131,
   "metadata": {},
   "outputs": [
    {
     "data": {
      "text/plain": "<class 'statsmodels.iolib.summary.Summary'>\n\"\"\"\n                            OLS Regression Results                            \n==============================================================================\nDep. Variable:                  hours   R-squared:                       0.015\nModel:                            OLS   Adj. R-squared:                  0.015\nMethod:                 Least Squares   F-statistic:                     145.2\nDate:                Fri, 08 Oct 2021   Prob (F-statistic):           2.69e-63\nTime:                        12:38:36   Log-Likelihood:                -70492.\nNo. Observations:               19202   AIC:                         1.410e+05\nDf Residuals:                   19199   BIC:                         1.410e+05\nDf Model:                           2                                         \nCovariance Type:            nonrobust                                         \n==============================================================================\n                 coef    std err          t      P>|t|      [0.025      0.975]\n------------------------------------------------------------------------------\nIntercept     35.9239      0.084    425.314      0.000      35.758      36.089\nunion          1.7661      0.162     10.880      0.000       1.448       2.084\ncollgrad       2.1420      0.173     12.353      0.000       1.802       2.482\n==============================================================================\nOmnibus:                     4212.730   Durbin-Watson:                   1.175\nProb(Omnibus):                  0.000   Jarque-Bera (JB):            22770.233\nSkew:                          -0.952   Prob(JB):                         0.00\nKurtosis:                       7.984   Cond. No.                         2.72\n==============================================================================\n\nNotes:\n[1] Standard Errors assume that the covariance matrix of the errors is correctly specified.\n\"\"\"",
      "text/html": "<table class=\"simpletable\">\n<caption>OLS Regression Results</caption>\n<tr>\n  <th>Dep. Variable:</th>          <td>hours</td>      <th>  R-squared:         </th> <td>   0.015</td> \n</tr>\n<tr>\n  <th>Model:</th>                   <td>OLS</td>       <th>  Adj. R-squared:    </th> <td>   0.015</td> \n</tr>\n<tr>\n  <th>Method:</th>             <td>Least Squares</td>  <th>  F-statistic:       </th> <td>   145.2</td> \n</tr>\n<tr>\n  <th>Date:</th>             <td>Fri, 08 Oct 2021</td> <th>  Prob (F-statistic):</th> <td>2.69e-63</td> \n</tr>\n<tr>\n  <th>Time:</th>                 <td>12:38:36</td>     <th>  Log-Likelihood:    </th> <td> -70492.</td> \n</tr>\n<tr>\n  <th>No. Observations:</th>      <td> 19202</td>      <th>  AIC:               </th> <td>1.410e+05</td>\n</tr>\n<tr>\n  <th>Df Residuals:</th>          <td> 19199</td>      <th>  BIC:               </th> <td>1.410e+05</td>\n</tr>\n<tr>\n  <th>Df Model:</th>              <td>     2</td>      <th>                     </th>     <td> </td>    \n</tr>\n<tr>\n  <th>Covariance Type:</th>      <td>nonrobust</td>    <th>                     </th>     <td> </td>    \n</tr>\n</table>\n<table class=\"simpletable\">\n<tr>\n      <td></td>         <th>coef</th>     <th>std err</th>      <th>t</th>      <th>P>|t|</th>  <th>[0.025</th>    <th>0.975]</th>  \n</tr>\n<tr>\n  <th>Intercept</th> <td>   35.9239</td> <td>    0.084</td> <td>  425.314</td> <td> 0.000</td> <td>   35.758</td> <td>   36.089</td>\n</tr>\n<tr>\n  <th>union</th>     <td>    1.7661</td> <td>    0.162</td> <td>   10.880</td> <td> 0.000</td> <td>    1.448</td> <td>    2.084</td>\n</tr>\n<tr>\n  <th>collgrad</th>  <td>    2.1420</td> <td>    0.173</td> <td>   12.353</td> <td> 0.000</td> <td>    1.802</td> <td>    2.482</td>\n</tr>\n</table>\n<table class=\"simpletable\">\n<tr>\n  <th>Omnibus:</th>       <td>4212.730</td> <th>  Durbin-Watson:     </th> <td>   1.175</td> \n</tr>\n<tr>\n  <th>Prob(Omnibus):</th>  <td> 0.000</td>  <th>  Jarque-Bera (JB):  </th> <td>22770.233</td>\n</tr>\n<tr>\n  <th>Skew:</th>           <td>-0.952</td>  <th>  Prob(JB):          </th> <td>    0.00</td> \n</tr>\n<tr>\n  <th>Kurtosis:</th>       <td> 7.984</td>  <th>  Cond. No.          </th> <td>    2.72</td> \n</tr>\n</table><br/><br/>Notes:<br/>[1] Standard Errors assume that the covariance matrix of the errors is correctly specified."
     },
     "execution_count": 131,
     "metadata": {},
     "output_type": "execute_result"
    }
   ],
   "source": [
    "# Add education (collgrad) to the regression and compare the coefficient on union with the previous result\n",
    "res2 = smf.ols('hours ~ union + collgrad', data=data).fit()\n",
    "res2.summary()"
   ]
  },
  {
   "cell_type": "markdown",
   "source": [
    "The coefficient on union is lower when considering college status. This could be explained by college graduates receiving more job offers or having more stable jobs, leading to them working more hours total (or spending less time being unemployed)."
   ],
   "metadata": {
    "collapsed": false,
    "pycharm": {
     "name": "#%% md\n"
    }
   }
  },
  {
   "cell_type": "code",
   "execution_count": 139,
   "metadata": {},
   "outputs": [
    {
     "data": {
      "text/plain": "<class 'statsmodels.iolib.summary.Summary'>\n\"\"\"\n                            OLS Regression Results                            \n==============================================================================\nDep. Variable:                  hours   R-squared:                       0.078\nModel:                            OLS   Adj. R-squared:                  0.077\nMethod:                 Least Squares   F-statistic:                     124.5\nDate:                Fri, 08 Oct 2021   Prob (F-statistic):               0.00\nTime:                        12:43:52   Log-Likelihood:                -69582.\nNo. Observations:               19129   AIC:                         1.392e+05\nDf Residuals:                   19115   BIC:                         1.393e+05\nDf Model:                          13                                         \nCovariance Type:            nonrobust                                         \n=======================================================================================\n                          coef    std err          t      P>|t|      [0.025      0.975]\n---------------------------------------------------------------------------------------\nIntercept              36.5500      0.193    189.716      0.000      36.172      36.928\nC(occ_code)[T.2.0]      4.5761      0.321     14.262      0.000       3.947       5.205\nC(occ_code)[T.3.0]     -0.2517      0.218     -1.155      0.248      -0.679       0.176\nC(occ_code)[T.4.0]     -4.6075      0.384    -12.008      0.000      -5.360      -3.855\nC(occ_code)[T.5.0]      2.9850      0.540      5.524      0.000       1.926       4.044\nC(occ_code)[T.6.0]      1.9416      0.263      7.395      0.000       1.427       2.456\nC(occ_code)[T.7.0]    -11.0981      0.582    -19.058      0.000     -12.240      -9.957\nC(occ_code)[T.8.0]     -3.1660      0.263    -12.040      0.000      -3.681      -2.651\nC(occ_code)[T.9.0]     -6.2167      5.314     -1.170      0.242     -16.632       4.199\nC(occ_code)[T.10.0]    -0.0656      1.255     -0.052      0.958      -2.525       2.394\nC(occ_code)[T.11.0]     0.2354      0.898      0.262      0.793      -1.525       1.996\nC(occ_code)[T.12.0]     3.2262      4.118      0.783      0.433      -4.845      11.297\nC(occ_code)[T.13.0]     2.7717      0.322      8.616      0.000       2.141       3.402\nunion                   1.1192      0.163      6.849      0.000       0.799       1.440\n==============================================================================\nOmnibus:                     3715.173   Durbin-Watson:                   1.222\nProb(Omnibus):                  0.000   Jarque-Bera (JB):            26823.971\nSkew:                          -0.745   Prob(JB):                         0.00\nKurtosis:                       8.606   Cond. No.                         90.6\n==============================================================================\n\nNotes:\n[1] Standard Errors assume that the covariance matrix of the errors is correctly specified.\n\"\"\"",
      "text/html": "<table class=\"simpletable\">\n<caption>OLS Regression Results</caption>\n<tr>\n  <th>Dep. Variable:</th>          <td>hours</td>      <th>  R-squared:         </th> <td>   0.078</td> \n</tr>\n<tr>\n  <th>Model:</th>                   <td>OLS</td>       <th>  Adj. R-squared:    </th> <td>   0.077</td> \n</tr>\n<tr>\n  <th>Method:</th>             <td>Least Squares</td>  <th>  F-statistic:       </th> <td>   124.5</td> \n</tr>\n<tr>\n  <th>Date:</th>             <td>Fri, 08 Oct 2021</td> <th>  Prob (F-statistic):</th>  <td>  0.00</td>  \n</tr>\n<tr>\n  <th>Time:</th>                 <td>12:43:52</td>     <th>  Log-Likelihood:    </th> <td> -69582.</td> \n</tr>\n<tr>\n  <th>No. Observations:</th>      <td> 19129</td>      <th>  AIC:               </th> <td>1.392e+05</td>\n</tr>\n<tr>\n  <th>Df Residuals:</th>          <td> 19115</td>      <th>  BIC:               </th> <td>1.393e+05</td>\n</tr>\n<tr>\n  <th>Df Model:</th>              <td>    13</td>      <th>                     </th>     <td> </td>    \n</tr>\n<tr>\n  <th>Covariance Type:</th>      <td>nonrobust</td>    <th>                     </th>     <td> </td>    \n</tr>\n</table>\n<table class=\"simpletable\">\n<tr>\n           <td></td>              <th>coef</th>     <th>std err</th>      <th>t</th>      <th>P>|t|</th>  <th>[0.025</th>    <th>0.975]</th>  \n</tr>\n<tr>\n  <th>Intercept</th>           <td>   36.5500</td> <td>    0.193</td> <td>  189.716</td> <td> 0.000</td> <td>   36.172</td> <td>   36.928</td>\n</tr>\n<tr>\n  <th>C(occ_code)[T.2.0]</th>  <td>    4.5761</td> <td>    0.321</td> <td>   14.262</td> <td> 0.000</td> <td>    3.947</td> <td>    5.205</td>\n</tr>\n<tr>\n  <th>C(occ_code)[T.3.0]</th>  <td>   -0.2517</td> <td>    0.218</td> <td>   -1.155</td> <td> 0.248</td> <td>   -0.679</td> <td>    0.176</td>\n</tr>\n<tr>\n  <th>C(occ_code)[T.4.0]</th>  <td>   -4.6075</td> <td>    0.384</td> <td>  -12.008</td> <td> 0.000</td> <td>   -5.360</td> <td>   -3.855</td>\n</tr>\n<tr>\n  <th>C(occ_code)[T.5.0]</th>  <td>    2.9850</td> <td>    0.540</td> <td>    5.524</td> <td> 0.000</td> <td>    1.926</td> <td>    4.044</td>\n</tr>\n<tr>\n  <th>C(occ_code)[T.6.0]</th>  <td>    1.9416</td> <td>    0.263</td> <td>    7.395</td> <td> 0.000</td> <td>    1.427</td> <td>    2.456</td>\n</tr>\n<tr>\n  <th>C(occ_code)[T.7.0]</th>  <td>  -11.0981</td> <td>    0.582</td> <td>  -19.058</td> <td> 0.000</td> <td>  -12.240</td> <td>   -9.957</td>\n</tr>\n<tr>\n  <th>C(occ_code)[T.8.0]</th>  <td>   -3.1660</td> <td>    0.263</td> <td>  -12.040</td> <td> 0.000</td> <td>   -3.681</td> <td>   -2.651</td>\n</tr>\n<tr>\n  <th>C(occ_code)[T.9.0]</th>  <td>   -6.2167</td> <td>    5.314</td> <td>   -1.170</td> <td> 0.242</td> <td>  -16.632</td> <td>    4.199</td>\n</tr>\n<tr>\n  <th>C(occ_code)[T.10.0]</th> <td>   -0.0656</td> <td>    1.255</td> <td>   -0.052</td> <td> 0.958</td> <td>   -2.525</td> <td>    2.394</td>\n</tr>\n<tr>\n  <th>C(occ_code)[T.11.0]</th> <td>    0.2354</td> <td>    0.898</td> <td>    0.262</td> <td> 0.793</td> <td>   -1.525</td> <td>    1.996</td>\n</tr>\n<tr>\n  <th>C(occ_code)[T.12.0]</th> <td>    3.2262</td> <td>    4.118</td> <td>    0.783</td> <td> 0.433</td> <td>   -4.845</td> <td>   11.297</td>\n</tr>\n<tr>\n  <th>C(occ_code)[T.13.0]</th> <td>    2.7717</td> <td>    0.322</td> <td>    8.616</td> <td> 0.000</td> <td>    2.141</td> <td>    3.402</td>\n</tr>\n<tr>\n  <th>union</th>               <td>    1.1192</td> <td>    0.163</td> <td>    6.849</td> <td> 0.000</td> <td>    0.799</td> <td>    1.440</td>\n</tr>\n</table>\n<table class=\"simpletable\">\n<tr>\n  <th>Omnibus:</th>       <td>3715.173</td> <th>  Durbin-Watson:     </th> <td>   1.222</td> \n</tr>\n<tr>\n  <th>Prob(Omnibus):</th>  <td> 0.000</td>  <th>  Jarque-Bera (JB):  </th> <td>26823.971</td>\n</tr>\n<tr>\n  <th>Skew:</th>           <td>-0.745</td>  <th>  Prob(JB):          </th> <td>    0.00</td> \n</tr>\n<tr>\n  <th>Kurtosis:</th>       <td> 8.606</td>  <th>  Cond. No.          </th> <td>    90.6</td> \n</tr>\n</table><br/><br/>Notes:<br/>[1] Standard Errors assume that the covariance matrix of the errors is correctly specified."
     },
     "execution_count": 139,
     "metadata": {},
     "output_type": "execute_result"
    }
   ],
   "source": [
    "# Add occupation codes to the regression and compare the results with the previous one\n",
    "res3 = smf.ols('hours ~ union + C(occ_code)', data=data).fit()\n",
    "res3.summary()"
   ]
  },
  {
   "cell_type": "markdown",
   "source": [
    "I assume `occ_code` should be treated as a categorical value.\n",
    "\n",
    "In this case, the coefficient on union is drastically lower than in the first case. This implies that the occupation has a significant contribution to the working hours."
   ],
   "metadata": {
    "collapsed": false,
    "pycharm": {
     "name": "#%% md\n"
    }
   }
  },
  {
   "cell_type": "markdown",
   "metadata": {},
   "source": [
    "#### In terms of causal inference, why is adding occupation code as a control probably not a good idea?\n",
    "\n",
    "Working hours might differ a lot between occupations. For example, a container ship captain would work almost 24/7 during a trip while a receptionist works only during peak check-in and check-out hours. Additionally, some occupations might not even have worker unions, thus making `union` be correlated to `occ_code`."
   ]
  },
  {
   "cell_type": "code",
   "execution_count": 141,
   "outputs": [
    {
     "name": "stdout",
     "output_type": "stream",
     "text": [
      "idcode\n",
      "year\n",
      "birth_yr\n",
      "age\n",
      "race\n",
      "msp\n",
      "nev_mar\n",
      "grade\n",
      "collgrad\n",
      "not_smsa\n",
      "c_city\n",
      "south\n",
      "ind_code\n",
      "occ_code\n",
      "union\n",
      "wks_ue\n",
      "ttl_exp\n",
      "tenure\n",
      "hours\n",
      "wks_work\n",
      "ln_wage\n",
      "log_hours\n"
     ]
    }
   ],
   "source": [
    "cols = data.columns\n",
    "for col in cols:\n",
    "    print(col)"
   ],
   "metadata": {
    "collapsed": false,
    "pycharm": {
     "name": "#%%\n"
    }
   }
  },
  {
   "cell_type": "markdown",
   "metadata": {},
   "source": [
    "#### What are \"good controls\" in the dataset in terms of being exogenous to union status?\n",
    "\n",
    "Note to self: \"X is exogenous to union status\" <=> \"union status depends on X but X does not depend on union status\"\n",
    "                                               <=> \"Relation between X and union status is strictly one-way\"\n",
    "\n",
    "Some possible controls could be:\n",
    "\n",
    "- `race`: People of color might be more inclined to join a worker union due to unfair treatment. Being in a union does not determine race, however.\n",
    "- `msp`: Married women (at least in those times) generally worked reduced hours or stopped working altogether. Being a union member has no influence on marriage status, though."
   ]
  },
  {
   "cell_type": "code",
   "execution_count": 166,
   "metadata": {},
   "outputs": [
    {
     "data": {
      "text/plain": "<class 'statsmodels.iolib.summary.Summary'>\n\"\"\"\n                            OLS Regression Results                            \n==============================================================================\nDep. Variable:                  hours   R-squared:                       0.035\nModel:                            OLS   Adj. R-squared:                  0.035\nMethod:                 Least Squares   F-statistic:                     175.8\nDate:                Fri, 08 Oct 2021   Prob (F-statistic):          3.84e-148\nTime:                        15:52:01   Log-Likelihood:                -70251.\nNo. Observations:               19191   AIC:                         1.405e+05\nDf Residuals:                   19186   BIC:                         1.406e+05\nDf Model:                           4                                         \nCovariance Type:            nonrobust                                         \n====================================================================================\n                       coef    std err          t      P>|t|      [0.025      0.975]\n------------------------------------------------------------------------------------\nIntercept           38.0224      0.130    291.493      0.000      37.767      38.278\nC(race)[T.black]     0.8497      0.155      5.498      0.000       0.547       1.153\nC(race)[T.other]     1.1011      0.654      1.683      0.092      -0.182       2.384\nunion                1.6718      0.161     10.371      0.000       1.356       1.988\nmsp                 -3.0865      0.142    -21.687      0.000      -3.365      -2.808\n==============================================================================\nOmnibus:                     3738.017   Durbin-Watson:                   1.193\nProb(Omnibus):                  0.000   Jarque-Bera (JB):            23163.391\nSkew:                          -0.794   Prob(JB):                         0.00\nKurtosis:                       8.143   Cond. No.                         12.2\n==============================================================================\n\nNotes:\n[1] Standard Errors assume that the covariance matrix of the errors is correctly specified.\n\"\"\"",
      "text/html": "<table class=\"simpletable\">\n<caption>OLS Regression Results</caption>\n<tr>\n  <th>Dep. Variable:</th>          <td>hours</td>      <th>  R-squared:         </th> <td>   0.035</td> \n</tr>\n<tr>\n  <th>Model:</th>                   <td>OLS</td>       <th>  Adj. R-squared:    </th> <td>   0.035</td> \n</tr>\n<tr>\n  <th>Method:</th>             <td>Least Squares</td>  <th>  F-statistic:       </th> <td>   175.8</td> \n</tr>\n<tr>\n  <th>Date:</th>             <td>Fri, 08 Oct 2021</td> <th>  Prob (F-statistic):</th> <td>3.84e-148</td>\n</tr>\n<tr>\n  <th>Time:</th>                 <td>15:52:01</td>     <th>  Log-Likelihood:    </th> <td> -70251.</td> \n</tr>\n<tr>\n  <th>No. Observations:</th>      <td> 19191</td>      <th>  AIC:               </th> <td>1.405e+05</td>\n</tr>\n<tr>\n  <th>Df Residuals:</th>          <td> 19186</td>      <th>  BIC:               </th> <td>1.406e+05</td>\n</tr>\n<tr>\n  <th>Df Model:</th>              <td>     4</td>      <th>                     </th>     <td> </td>    \n</tr>\n<tr>\n  <th>Covariance Type:</th>      <td>nonrobust</td>    <th>                     </th>     <td> </td>    \n</tr>\n</table>\n<table class=\"simpletable\">\n<tr>\n          <td></td>            <th>coef</th>     <th>std err</th>      <th>t</th>      <th>P>|t|</th>  <th>[0.025</th>    <th>0.975]</th>  \n</tr>\n<tr>\n  <th>Intercept</th>        <td>   38.0224</td> <td>    0.130</td> <td>  291.493</td> <td> 0.000</td> <td>   37.767</td> <td>   38.278</td>\n</tr>\n<tr>\n  <th>C(race)[T.black]</th> <td>    0.8497</td> <td>    0.155</td> <td>    5.498</td> <td> 0.000</td> <td>    0.547</td> <td>    1.153</td>\n</tr>\n<tr>\n  <th>C(race)[T.other]</th> <td>    1.1011</td> <td>    0.654</td> <td>    1.683</td> <td> 0.092</td> <td>   -0.182</td> <td>    2.384</td>\n</tr>\n<tr>\n  <th>union</th>            <td>    1.6718</td> <td>    0.161</td> <td>   10.371</td> <td> 0.000</td> <td>    1.356</td> <td>    1.988</td>\n</tr>\n<tr>\n  <th>msp</th>              <td>   -3.0865</td> <td>    0.142</td> <td>  -21.687</td> <td> 0.000</td> <td>   -3.365</td> <td>   -2.808</td>\n</tr>\n</table>\n<table class=\"simpletable\">\n<tr>\n  <th>Omnibus:</th>       <td>3738.017</td> <th>  Durbin-Watson:     </th> <td>   1.193</td> \n</tr>\n<tr>\n  <th>Prob(Omnibus):</th>  <td> 0.000</td>  <th>  Jarque-Bera (JB):  </th> <td>23163.391</td>\n</tr>\n<tr>\n  <th>Skew:</th>           <td>-0.794</td>  <th>  Prob(JB):          </th> <td>    0.00</td> \n</tr>\n<tr>\n  <th>Kurtosis:</th>       <td> 8.143</td>  <th>  Cond. No.          </th> <td>    12.2</td> \n</tr>\n</table><br/><br/>Notes:<br/>[1] Standard Errors assume that the covariance matrix of the errors is correctly specified."
     },
     "execution_count": 166,
     "metadata": {},
     "output_type": "execute_result"
    }
   ],
   "source": [
    "# Add these controls to the regression\n",
    "res4 = smf.ols('hours ~ union + C(race) + msp', data=data).fit()\n",
    "res4.summary()"
   ]
  },
  {
   "cell_type": "markdown",
   "metadata": {},
   "source": [
    "#### How do these change your estimates?\n",
    "\n",
    "The coefficient for union is lower than in the previous estimates. This indicates that hours are less strongly correlated to union status than previously assumed. Other factors such as marriage status also have a rather strong impact on hours worked."
   ]
  },
  {
   "cell_type": "markdown",
   "metadata": {},
   "source": [
    "# Short Essay: Correlation/Causation"
   ]
  },
  {
   "cell_type": "markdown",
   "metadata": {},
   "source": [
    "**Find a news article mistaking correlation for causation. Link to the article and write a short paragraph explaining the mistake.**"
   ]
  },
  {
   "cell_type": "markdown",
   "metadata": {},
   "source": [
    "Article: **How sleeping less than 7 hours a night can lead to weight gain**\n",
    "\n",
    "https://www.foxnews.com/health/sleeping-less-than-7-hours-night-weight-gain\n",
    "\n",
    "The article claims that having a bad sleep schedule (i.e. sleeping less than 7 hours a day) will lead to a more unhealthy lifestyle, including more unhealthy choices with regard to meals. The article explains the causation in that people who stay up longer tend to eat more snacks and prepared food than people who go to bed early, simply because they have more time to consume unhealthy products:\n",
    "\n",
    "> \"Not only are we not sleeping when we stay up late, but we’re doing all these obesity-related behaviors: lack of physical activity, increased screen time, food choices that we’re consuming as snacks and not as meals, [...]. The longer we’re awake, the more opportunities we have to eat. And at night, those calories are coming from snacks and sweets.\"\n",
    ">\n",
    "> Christopher Taylor, Ohio State University (OSU) professor of medical dietetics at the School of Health and Rehabilitation Sciences\n",
    "\n",
    "So, in the author's mind, sleeping less than 7 hours a day was the treatment, and gaining weight was the outcome. The article however not only mentions eating habits, but also habits related to screen time or physical activity, so what it is really talking about is a generally unhealthy lifestyle. This is equivalent to stating that sleeping less than 7 hours a day causes an unhealthy lifestyle, which in turn can cause weight gain.\n",
    "\n",
    "In my opinion, sleep habits is way less a choice than the article makes it out to be. Generally, I consider sleep habits rather a result of many other factors external factors such as job, housing, hobbies, social environment or status; That is, sleep is an effect of an unhealthy lifestyle (whether it is voluntary or not). For example, if a person lives far from their job where they are working long hours, they won't have a lot of time to prepare meals when at home, resorting to prepared foods (which in turn cause obesity, and little sleep is just another effect of their job conditions).\n",
    "\n",
    "Of course little sleep and weight gain are correlated, as an unhealthy lifestyle includes both unhealthy sleep habits and an unhealthy diet. So we can conclude that little sleep and weight gain are definitely correlated, but the causation might not be as strong as the article makes it out to be."
   ]
  },
  {
   "cell_type": "code",
   "execution_count": null,
   "metadata": {},
   "outputs": [],
   "source": []
  }
 ],
 "metadata": {
  "kernelspec": {
   "display_name": "Python 3 (ipykernel)",
   "language": "python",
   "name": "python3"
  },
  "language_info": {
   "codemirror_mode": {
    "name": "ipython",
    "version": 3
   },
   "file_extension": ".py",
   "mimetype": "text/x-python",
   "name": "python",
   "nbconvert_exporter": "python",
   "pygments_lexer": "ipython3",
   "version": "3.8.5"
  }
 },
 "nbformat": 4,
 "nbformat_minor": 4
}